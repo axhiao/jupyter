{
 "cells": [
  {
   "cell_type": "markdown",
   "metadata": {},
   "source": [
    "\n",
    "\n",
    "learnING pandas for data manipulation\n",
    "==========================="
   ]
  },
  {
   "cell_type": "code",
   "execution_count": 117,
   "metadata": {
    "collapsed": false
   },
   "outputs": [],
   "source": [
    "import pandas as pd\n",
    "irisdata = pd.read_csv('iris.data', header=None, encoding='utf-8')\n",
    "#irisdata"
   ]
  },
  {
   "cell_type": "code",
   "execution_count": 118,
   "metadata": {
    "collapsed": false
   },
   "outputs": [],
   "source": [
    "cnames = ['sepal_length', 'sepal_width', 'petal_length', 'petal_width', 'class']\n",
    "irisdata.columns = cnames\n",
    "#irisdata"
   ]
  },
  {
   "cell_type": "code",
   "execution_count": 10,
   "metadata": {
    "collapsed": false
   },
   "outputs": [
    {
     "data": {
      "text/html": [
       "<div>\n",
       "<table border=\"1\" class=\"dataframe\">\n",
       "  <thead>\n",
       "    <tr style=\"text-align: right;\">\n",
       "      <th></th>\n",
       "      <th>sepal_length</th>\n",
       "      <th>sepal_width</th>\n",
       "      <th>petal_length</th>\n",
       "      <th>petal_width</th>\n",
       "      <th>class</th>\n",
       "    </tr>\n",
       "  </thead>\n",
       "  <tbody>\n",
       "    <tr>\n",
       "      <th>100</th>\n",
       "      <td>6.3</td>\n",
       "      <td>3.3</td>\n",
       "      <td>6.0</td>\n",
       "      <td>2.5</td>\n",
       "      <td>Iris-virginica</td>\n",
       "    </tr>\n",
       "    <tr>\n",
       "      <th>109</th>\n",
       "      <td>7.2</td>\n",
       "      <td>3.6</td>\n",
       "      <td>6.1</td>\n",
       "      <td>2.5</td>\n",
       "      <td>Iris-virginica</td>\n",
       "    </tr>\n",
       "    <tr>\n",
       "      <th>144</th>\n",
       "      <td>6.7</td>\n",
       "      <td>3.3</td>\n",
       "      <td>5.7</td>\n",
       "      <td>2.5</td>\n",
       "      <td>Iris-virginica</td>\n",
       "    </tr>\n",
       "  </tbody>\n",
       "</table>\n",
       "</div>"
      ],
      "text/plain": [
       "     sepal_length  sepal_width  petal_length  petal_width           class\n",
       "100           6.3          3.3           6.0          2.5  Iris-virginica\n",
       "109           7.2          3.6           6.1          2.5  Iris-virginica\n",
       "144           6.7          3.3           5.7          2.5  Iris-virginica"
      ]
     },
     "execution_count": 10,
     "metadata": {},
     "output_type": "execute_result"
    }
   ],
   "source": [
    "# 快速过滤\n",
    "irisdata[irisdata['petal_width'] == irisdata.petal_width.max()]  "
   ]
  },
  {
   "cell_type": "code",
   "execution_count": 11,
   "metadata": {
    "collapsed": false
   },
   "outputs": [
    {
     "data": {
      "text/html": [
       "<div>\n",
       "<table border=\"1\" class=\"dataframe\">\n",
       "  <thead>\n",
       "    <tr style=\"text-align: right;\">\n",
       "      <th></th>\n",
       "      <th>class</th>\n",
       "      <th>petal_length</th>\n",
       "    </tr>\n",
       "  </thead>\n",
       "  <tbody>\n",
       "    <tr>\n",
       "      <th>0</th>\n",
       "      <td>Iris-setosa</td>\n",
       "      <td>1.4</td>\n",
       "    </tr>\n",
       "    <tr>\n",
       "      <th>30</th>\n",
       "      <td>Iris-setosa</td>\n",
       "      <td>1.6</td>\n",
       "    </tr>\n",
       "    <tr>\n",
       "      <th>60</th>\n",
       "      <td>Iris-versicolor</td>\n",
       "      <td>3.5</td>\n",
       "    </tr>\n",
       "    <tr>\n",
       "      <th>90</th>\n",
       "      <td>Iris-versicolor</td>\n",
       "      <td>4.4</td>\n",
       "    </tr>\n",
       "    <tr>\n",
       "      <th>120</th>\n",
       "      <td>Iris-virginica</td>\n",
       "      <td>5.7</td>\n",
       "    </tr>\n",
       "  </tbody>\n",
       "</table>\n",
       "</div>"
      ],
      "text/plain": [
       "               class  petal_length\n",
       "0        Iris-setosa           1.4\n",
       "30       Iris-setosa           1.6\n",
       "60   Iris-versicolor           3.5\n",
       "90   Iris-versicolor           4.4\n",
       "120   Iris-virginica           5.7"
      ]
     },
     "execution_count": 11,
     "metadata": {},
     "output_type": "execute_result"
    }
   ],
   "source": [
    "irisdata.iloc[::30,[-1,2]]"
   ]
  },
  {
   "cell_type": "markdown",
   "metadata": {},
   "source": [
    "iloc中几个参数的含义\n",
    "> [::30,[2,3]]\n",
    "\n",
    "给出一个形式化的描述 [a:b:c,[list]]\n",
    "\n",
    "其中a表示开始行号，b表示结束行号，c表示step的大小，comma后面可以跟一个list用来表示所取的列的__索引号__。其中a,b,c都可以省略\n"
   ]
  },
  {
   "cell_type": "code",
   "execution_count": 12,
   "metadata": {
    "collapsed": false,
    "scrolled": true
   },
   "outputs": [
    {
     "name": "stdout",
     "output_type": "stream",
     "text": [
      "Iris-setosa        50\n",
      "Iris-versicolor    50\n",
      "Iris-virginica     50\n",
      "Name: class, dtype: int64\n",
      "SEPAL_LENGTH  Statistics:    7.9   4.3  5.84  0.83\n",
      "SEPAL_WIDTH   Statistics:    4.4   2.0  3.05  0.43\n",
      "PETAL_LENGTH  Statistics:    6.9   1.0  3.76  1.76\n",
      "PETAL_WIDTH   Statistics:    2.5   0.1   1.2  0.76\n"
     ]
    }
   ],
   "source": [
    "print irisdata['class'].value_counts()\n",
    "\n",
    "for x in xrange(4):\n",
    "    s = irisdata.iloc[:,x]\n",
    "    print '{0:<12}'.format(s.name.upper()), \" Statistics: \" , \\\n",
    "    '{0:>5} {1:>5} {2:>5} {3:>5}'.format(s.max(), s.min(), round(s.mean(),2), round(s.std(), 2))"
   ]
  },
  {
   "cell_type": "code",
   "execution_count": 15,
   "metadata": {
    "collapsed": false,
    "scrolled": true
   },
   "outputs": [
    {
     "data": {
      "text/html": [
       "<div>\n",
       "<table border=\"1\" class=\"dataframe\">\n",
       "  <thead>\n",
       "    <tr style=\"text-align: right;\">\n",
       "      <th></th>\n",
       "      <th>sepal_length</th>\n",
       "      <th>sepal_width</th>\n",
       "      <th>petal_length</th>\n",
       "      <th>petal_width</th>\n",
       "    </tr>\n",
       "    <tr>\n",
       "      <th>class</th>\n",
       "      <th></th>\n",
       "      <th></th>\n",
       "      <th></th>\n",
       "      <th></th>\n",
       "    </tr>\n",
       "  </thead>\n",
       "  <tbody>\n",
       "    <tr>\n",
       "      <th>Iris-setosa</th>\n",
       "      <td>49.878745</td>\n",
       "      <td>49.695242</td>\n",
       "      <td>49.654909</td>\n",
       "      <td>45.810069</td>\n",
       "    </tr>\n",
       "    <tr>\n",
       "      <th>Iris-versicolor</th>\n",
       "      <td>49.815081</td>\n",
       "      <td>49.680665</td>\n",
       "      <td>49.694505</td>\n",
       "      <td>49.452305</td>\n",
       "    </tr>\n",
       "    <tr>\n",
       "      <th>Iris-virginica</th>\n",
       "      <td>49.772059</td>\n",
       "      <td>49.714500</td>\n",
       "      <td>49.761700</td>\n",
       "      <td>49.545918</td>\n",
       "    </tr>\n",
       "  </tbody>\n",
       "</table>\n",
       "</div>"
      ],
      "text/plain": [
       "                 sepal_length  sepal_width  petal_length  petal_width\n",
       "class                                                                \n",
       "Iris-setosa         49.878745    49.695242     49.654909    45.810069\n",
       "Iris-versicolor     49.815081    49.680665     49.694505    49.452305\n",
       "Iris-virginica      49.772059    49.714500     49.761700    49.545918"
      ]
     },
     "execution_count": 15,
     "metadata": {},
     "output_type": "execute_result"
    }
   ],
   "source": [
    "import scipy as sp\n",
    "import numpy as np\n",
    "slogs = lambda x:sp.log(x)*x\n",
    "entpy = lambda x:sp.exp((slogs(x.sum())-x.map(slogs).sum() )/x.sum())\n",
    "\n",
    "irisdata.groupby('class').agg(entpy)\n",
    "\n",
    "#类似SQL语句中的group by 分组，然后在其分组之上再调用agg为每个分组定义一个聚合函数，如果简单则以lambda表达式的形式\n"
   ]
  },
  {
   "cell_type": "markdown",
   "metadata": {},
   "source": [
    "* DataFrame 二维表\n",
    "* Series 数据表中的一列或一行，观测向量，一维数组\n",
    "* Index 行索引， 行级元数据"
   ]
  },
  {
   "cell_type": "code",
   "execution_count": 31,
   "metadata": {
    "collapsed": false
   },
   "outputs": [
    {
     "name": "stdout",
     "output_type": "stream",
     "text": [
      "0   -0.329986\n",
      "1   -0.525647\n",
      "2   -0.415344\n",
      "3   -1.951361\n",
      "dtype: float64 <class 'pandas.core.series.Series'>\n",
      "RangeIndex(start=0, stop=4, step=1)\n",
      "[-0.32998607 -0.52564669 -0.41534382 -1.95136127]\n",
      "==============\n",
      "0    False\n",
      "1    False\n",
      "2    False\n",
      "3    False\n",
      "dtype: bool\n",
      "Series([], dtype: float64)\n",
      "0   -0.659972\n",
      "1   -1.051293\n",
      "2   -0.830688\n",
      "3   -3.902723\n",
      "dtype: float64\n",
      "0    4.670014\n",
      "1    4.474353\n",
      "2    4.584656\n",
      "3    3.048639\n",
      "dtype: float64\n"
     ]
    }
   ],
   "source": [
    "import numpy as np\n",
    "s = pd.Series(np.random.randn(4))\n",
    "print s, type(s)\n",
    "print s.index\n",
    "print s.values\n",
    "print \"==============\"\n",
    "print s > 0\n",
    "print s[s > 0]\n",
    "# support broadcasting\n",
    "print s*2\n",
    "print s+5"
   ]
  },
  {
   "cell_type": "code",
   "execution_count": 4,
   "metadata": {
    "collapsed": false
   },
   "outputs": [],
   "source": [
    "# init a Series\n",
    "# s = pd.Series([values], [index])\n",
    "#s.name = 'totalname'\n",
    "#s.index.name = 'indexname'\n",
    "\n"
   ]
  },
  {
   "cell_type": "code",
   "execution_count": 51,
   "metadata": {
    "collapsed": false
   },
   "outputs": [
    {
     "data": {
      "text/html": [
       "<div>\n",
       "<table border=\"1\" class=\"dataframe\">\n",
       "  <thead>\n",
       "    <tr style=\"text-align: right;\">\n",
       "      <th></th>\n",
       "      <th>nation</th>\n",
       "      <th>capital</th>\n",
       "      <th>GDP</th>\n",
       "    </tr>\n",
       "  </thead>\n",
       "  <tbody>\n",
       "    <tr>\n",
       "      <th>2</th>\n",
       "      <td>China</td>\n",
       "      <td>Beijing</td>\n",
       "      <td>9300</td>\n",
       "    </tr>\n",
       "    <tr>\n",
       "      <th>0</th>\n",
       "      <td>Japan</td>\n",
       "      <td>Tokyo</td>\n",
       "      <td>4000</td>\n",
       "    </tr>\n",
       "    <tr>\n",
       "      <th>1</th>\n",
       "      <td>S.Korea</td>\n",
       "      <td>Seoul</td>\n",
       "      <td>1300</td>\n",
       "    </tr>\n",
       "  </tbody>\n",
       "</table>\n",
       "</div>"
      ],
      "text/plain": [
       "    nation  capital   GDP\n",
       "2    China  Beijing  9300\n",
       "0    Japan    Tokyo  4000\n",
       "1  S.Korea    Seoul  1300"
      ]
     },
     "execution_count": 51,
     "metadata": {},
     "output_type": "execute_result"
    }
   ],
   "source": [
    "#从 NumPy 二维数组、从文件或者直接从数据库定义：最好定义列名。\n",
    "import numpy as np\n",
    "import pandas as pd\n",
    "dataNumpy = np.asarray([('Japan','Tokyo',4000),('S.Korea','Seoul',1300),('China','Beijing',9100)])\n",
    "df1 = pd.DataFrame(dataNumpy, columns=['nation','capital','GDP'])\n",
    "#df1\n",
    "dataDict = {'nation':['Japan','S.Korea','China'], 'capital':['Tokyo','Seoul','Beijing'],'GDP':[4000,1300,9300]}\n",
    "df2 = pd.DataFrame(dataDict) #字典key是无序的\n",
    "#df2\n",
    "df21 = pd.DataFrame(df2, columns=['nation','capital','GDP'])\n",
    "df22 = pd.DataFrame(df2, columns=['nation','capital','GDP'], index=[2,0,1])\n",
    "df22"
   ]
  },
  {
   "cell_type": "code",
   "execution_count": 28,
   "metadata": {
    "collapsed": false
   },
   "outputs": [
    {
     "name": "stdout",
     "output_type": "stream",
     "text": [
      "2      China\n",
      "0      Japan\n",
      "1    S.Korea\n",
      "Name: nation, dtype: object\n",
      "2    9300\n",
      "0    4000\n",
      "1    1300\n",
      "Name: GDP, dtype: int64\n"
     ]
    }
   ],
   "source": [
    "#从DataFrame中取出某一列有2种方法：\n",
    "# 1 '.'的写法容易与保留字冲突\n",
    "# 2 '[]'的写法比较安全\n",
    "print df22.nation\n",
    "print df22['GDP']"
   ]
  },
  {
   "cell_type": "code",
   "execution_count": 63,
   "metadata": {
    "collapsed": false
   },
   "outputs": [
    {
     "name": "stdout",
     "output_type": "stream",
     "text": [
      "    nation  capital   GDP\n",
      "2    China  Beijing  9300\n",
      "0    Japan    Tokyo  4000\n",
      "1  S.Korea    Seoul  1300\n"
     ]
    }
   ],
   "source": [
    "## 从DataFrame中取得行，常用的方法\n",
    "#print df22[0:2] #返回的实际是DataFrame\n",
    "print df22.ix[2:1] #通过对应的index给出行. ix[0,2]表示取得第0行的第2列 ix[a:b] 返回a,b范围内的行(a,b大小没有要求)\n"
   ]
  },
  {
   "cell_type": "code",
   "execution_count": 70,
   "metadata": {
    "collapsed": false
   },
   "outputs": [
    {
     "name": "stdout",
     "output_type": "stream",
     "text": [
      "2      China\n",
      "0      Japan\n",
      "1    S.Korea\n",
      "Name: nation, dtype: object\n",
      "    nation  capital   GDP   pop\n",
      "2    China  Beijing  9300  1600\n",
      "0    Japan    Tokyo  4000   130\n",
      "1  S.Korea    Seoul  1300    55\n"
     ]
    }
   ],
   "source": [
    "#print df22.iloc[0,:]\n",
    "print df22.iloc[:,0]\n",
    "#动态增加列的方式无法用.完成，只能用[]\n",
    "df22['pop'] = [1600, 130, 55]\n",
    "print df22"
   ]
  },
  {
   "cell_type": "code",
   "execution_count": 75,
   "metadata": {
    "collapsed": false
   },
   "outputs": [
    {
     "ename": "TypeError",
     "evalue": "Index does not support mutable operations",
     "output_type": "error",
     "traceback": [
      "\u001b[1;31m---------------------------------------------------------------------------\u001b[0m",
      "\u001b[1;31mTypeError\u001b[0m                                 Traceback (most recent call last)",
      "\u001b[1;32m<ipython-input-75-4a97e934cb70>\u001b[0m in \u001b[0;36m<module>\u001b[1;34m()\u001b[0m\n\u001b[0;32m      5\u001b[0m \u001b[1;31m#这样得到的Index是immutable的\u001b[0m\u001b[1;33m\u001b[0m\u001b[1;33m\u001b[0m\u001b[0m\n\u001b[0;32m      6\u001b[0m \u001b[0mid0\u001b[0m \u001b[1;33m=\u001b[0m \u001b[0mpd\u001b[0m\u001b[1;33m.\u001b[0m\u001b[0mIndex\u001b[0m\u001b[1;33m(\u001b[0m\u001b[0mindex_names\u001b[0m\u001b[1;33m)\u001b[0m\u001b[1;33m\u001b[0m\u001b[0m\n\u001b[1;32m----> 7\u001b[1;33m \u001b[0mid0\u001b[0m\u001b[1;33m[\u001b[0m\u001b[1;36m2\u001b[0m\u001b[1;33m]\u001b[0m \u001b[1;33m=\u001b[0m \u001b[1;34m'd'\u001b[0m\u001b[1;33m\u001b[0m\u001b[0m\n\u001b[0m",
      "\u001b[1;32mc:\\python27\\lib\\site-packages\\pandas\\indexes\\base.pyc\u001b[0m in \u001b[0;36m__setitem__\u001b[1;34m(self, key, value)\u001b[0m\n\u001b[0;32m   1243\u001b[0m \u001b[1;33m\u001b[0m\u001b[0m\n\u001b[0;32m   1244\u001b[0m     \u001b[1;32mdef\u001b[0m \u001b[0m__setitem__\u001b[0m\u001b[1;33m(\u001b[0m\u001b[0mself\u001b[0m\u001b[1;33m,\u001b[0m \u001b[0mkey\u001b[0m\u001b[1;33m,\u001b[0m \u001b[0mvalue\u001b[0m\u001b[1;33m)\u001b[0m\u001b[1;33m:\u001b[0m\u001b[1;33m\u001b[0m\u001b[0m\n\u001b[1;32m-> 1245\u001b[1;33m         \u001b[1;32mraise\u001b[0m \u001b[0mTypeError\u001b[0m\u001b[1;33m(\u001b[0m\u001b[1;34m\"Index does not support mutable operations\"\u001b[0m\u001b[1;33m)\u001b[0m\u001b[1;33m\u001b[0m\u001b[0m\n\u001b[0m\u001b[0;32m   1246\u001b[0m \u001b[1;33m\u001b[0m\u001b[0m\n\u001b[0;32m   1247\u001b[0m     \u001b[1;32mdef\u001b[0m \u001b[0m__getitem__\u001b[0m\u001b[1;33m(\u001b[0m\u001b[0mself\u001b[0m\u001b[1;33m,\u001b[0m \u001b[0mkey\u001b[0m\u001b[1;33m)\u001b[0m\u001b[1;33m:\u001b[0m\u001b[1;33m\u001b[0m\u001b[0m\n",
      "\u001b[1;31mTypeError\u001b[0m: Index does not support mutable operations"
     ]
    }
   ],
   "source": [
    "index_names = ['a','b', 'c']\n",
    "series_for_index = pd.Series(index_names)\n",
    "#print pd.Index(index_names)\n",
    "#print pd.Index(series_for_index)\n",
    "#这样得到的Index是immutable的\n",
    "id0 = pd.Index(index_names)\n",
    "id0[2] = 'd' # TypeError: Index does not support mutable operations\n"
   ]
  },
  {
   "cell_type": "code",
   "execution_count": 78,
   "metadata": {
    "collapsed": false
   },
   "outputs": [
    {
     "name": "stdout",
     "output_type": "stream",
     "text": [
      "MultiIndex(levels=[[u'Row_1', u'Row_2', u'Row_3', u'Row_4'], [u'Col_1', u'Col_2', u'Col_3', u'Col_4']],\n",
      "           labels=[[0, 0, 0, 0, 1, 1, 1, 1, 2, 2, 2, 2, 3, 3, 3, 3], [0, 1, 2, 3, 0, 1, 2, 3, 0, 1, 2, 3, 0, 1, 2, 3]])\n"
     ]
    }
   ],
   "source": [
    "# multiIndex\n",
    "multi = pd.Index([('Row_' + str(x+1), 'Col_' + str(y+1)) for x in xrange(4) for y in xrange(4)])\n",
    "multi.name = ['index1', 'index2']\n",
    "print multi"
   ]
  },
  {
   "cell_type": "code",
   "execution_count": 85,
   "metadata": {
    "collapsed": false
   },
   "outputs": [
    {
     "data": {
      "text/plain": [
       "Row_1  Col_1     0\n",
       "       Col_2     1\n",
       "       Col_3     2\n",
       "       Col_4     3\n",
       "Row_2  Col_1     4\n",
       "       Col_2     5\n",
       "       Col_3     6\n",
       "       Col_4     7\n",
       "Row_3  Col_1     8\n",
       "       Col_2     9\n",
       "       Col_3    10\n",
       "       Col_4    11\n",
       "Row_4  Col_1    12\n",
       "       Col_2    13\n",
       "       Col_3    14\n",
       "       Col_4    15\n",
       "dtype: int32"
      ]
     },
     "execution_count": 85,
     "metadata": {},
     "output_type": "execute_result"
    }
   ],
   "source": [
    "d = pd.Series(xrange(0,16), index = multi) # note: here is Series, its just a vector.\n",
    "#d\n",
    "d.unstack().stack()"
   ]
  },
  {
   "cell_type": "code",
   "execution_count": 91,
   "metadata": {
    "collapsed": false
   },
   "outputs": [
    {
     "data": {
      "text/html": [
       "<div>\n",
       "<table border=\"1\" class=\"dataframe\">\n",
       "  <thead>\n",
       "    <tr style=\"text-align: right;\">\n",
       "      <th></th>\n",
       "      <th>Col_1</th>\n",
       "      <th>Col_2</th>\n",
       "      <th>Col_3</th>\n",
       "      <th>Col_4</th>\n",
       "    </tr>\n",
       "  </thead>\n",
       "  <tbody>\n",
       "    <tr>\n",
       "      <th>Row_2</th>\n",
       "      <td>0.0</td>\n",
       "      <td>NaN</td>\n",
       "      <td>NaN</td>\n",
       "      <td>NaN</td>\n",
       "    </tr>\n",
       "    <tr>\n",
       "      <th>Row_3</th>\n",
       "      <td>1.0</td>\n",
       "      <td>2.0</td>\n",
       "      <td>NaN</td>\n",
       "      <td>NaN</td>\n",
       "    </tr>\n",
       "    <tr>\n",
       "      <th>Row_4</th>\n",
       "      <td>3.0</td>\n",
       "      <td>4.0</td>\n",
       "      <td>5.0</td>\n",
       "      <td>NaN</td>\n",
       "    </tr>\n",
       "    <tr>\n",
       "      <th>Row_5</th>\n",
       "      <td>6.0</td>\n",
       "      <td>7.0</td>\n",
       "      <td>8.0</td>\n",
       "      <td>9.0</td>\n",
       "    </tr>\n",
       "  </tbody>\n",
       "</table>\n",
       "</div>"
      ],
      "text/plain": [
       "       Col_1  Col_2  Col_3  Col_4\n",
       "Row_2    0.0    NaN    NaN    NaN\n",
       "Row_3    1.0    2.0    NaN    NaN\n",
       "Row_4    3.0    4.0    5.0    NaN\n",
       "Row_5    6.0    7.0    8.0    9.0"
      ]
     },
     "execution_count": 91,
     "metadata": {},
     "output_type": "execute_result"
    }
   ],
   "source": [
    "\n",
    "multi2 = pd.Index( [('Row_' + str(x+1), 'Col_' + str(y+1)) for x in xrange(5) for y in xrange(x)])\n",
    "#multi2\n",
    "d2 = pd.Series(np.arange(10), index = multi2)\n",
    "d2.unstack()#.stack()"
   ]
  },
  {
   "cell_type": "code",
   "execution_count": 97,
   "metadata": {
    "collapsed": false
   },
   "outputs": [
    {
     "name": "stdout",
     "output_type": "stream",
     "text": [
      "PeriodIndex(['2015-01', '2015-02', '2015-03', '2015-04'], dtype='int64', freq='M')\n"
     ]
    }
   ],
   "source": [
    "# DateTime\n",
    "import datetime\n",
    "dates = [datetime.datetime(2015,1,1), datetime.datetime(2015,1,8), datetime.datetime(2015,1,30)]\n",
    "#pd.DatetimeIndex(dates) # 用时间作行索引\n",
    "\n",
    "# 如果不仅需要时间格式同意，时间频率也要统一\n",
    "pid1 = pd.period_range('2015-01', '2015-04', freq='M')\n",
    "print pid1"
   ]
  },
  {
   "cell_type": "code",
   "execution_count": 106,
   "metadata": {
    "collapsed": false
   },
   "outputs": [
    {
     "name": "stdout",
     "output_type": "stream",
     "text": [
      "2015-01-31\n",
      "2015-02-28\n",
      "2015-03-31\n",
      "2015-04-30\n"
     ]
    }
   ],
   "source": [
    "#print pid1.asfreq('D', how='start')\n",
    "period2 =  pid1.asfreq('D', how='end')\n",
    "period2\n",
    "for x in pid1.asfreq('D', how='end'):\n",
    "    print x"
   ]
  },
  {
   "cell_type": "code",
   "execution_count": 122,
   "metadata": {
    "collapsed": false,
    "scrolled": false
   },
   "outputs": [
    {
     "name": "stdout",
     "output_type": "stream",
     "text": [
      "PeriodIndex(['2015-01-01', '2015-01-02', '2015-01-03', '2015-01-04',\n",
      "             '2015-01-05', '2015-01-06', '2015-01-07', '2015-01-08',\n",
      "             '2015-01-09', '2015-01-10', '2015-01-11', '2015-01-12',\n",
      "             '2015-01-13', '2015-01-14', '2015-01-15', '2015-01-16',\n",
      "             '2015-01-17', '2015-01-18', '2015-01-19', '2015-01-20',\n",
      "             '2015-01-21', '2015-01-22', '2015-01-23', '2015-01-24',\n",
      "             '2015-01-25', '2015-01-26', '2015-01-27', '2015-01-28',\n",
      "             '2015-01-29', '2015-01-30', '2015-01-31', '2015-02-01',\n",
      "             '2015-02-02', '2015-02-03', '2015-02-04', '2015-02-05',\n",
      "             '2015-02-06', '2015-02-07', '2015-02-08', '2015-02-09',\n",
      "             '2015-02-10', '2015-02-11', '2015-02-12', '2015-02-13',\n",
      "             '2015-02-14', '2015-02-15', '2015-02-16', '2015-02-17',\n",
      "             '2015-02-18', '2015-02-19', '2015-02-20', '2015-02-21',\n",
      "             '2015-02-22', '2015-02-23', '2015-02-24', '2015-02-25',\n",
      "             '2015-02-26', '2015-02-27', '2015-02-28', '2015-03-01'],\n",
      "            dtype='int64', freq='D')\n"
     ]
    }
   ],
   "source": [
    "periodindex_mon = pd.period_range('2015-01', '2015-03', freq='d').asfreq('d')\n",
    "periodindex_day = pd.period_range('2015-01-01','2015-03-01', freq='D')\n",
    "#print periodindex_mon\n",
    "print periodindex_day"
   ]
  },
  {
   "cell_type": "markdown",
   "metadata": {},
   "source": [
    "# I/O 处理\n",
    "* header 表示数据中是否存在某一行，该行的数据为各个列的列名。如果第0行就写0，并且读数据的时候跳过相应的行数，不存在可以写None\n",
    "* names 表示用给的列名来作为最终的列名\n",
    "* encoding 表示数据集的编码\n",
    "\n",
    "读取处理：\n",
    "* skiprows : 跳过一定的行数\n",
    "* nrows : 仅读取一定的行数\n",
    "* skipfooter 尾部有固定的行数永不读取\n",
    "* skip_blank_lines 空行跳过\n",
    "\n",
    "内容处理：\n",
    "* sep/delimiter 分隔符，常见的有逗号，空格(\\s)和Tab(\\t)\n",
    "* na_values 指定应该被当作na_values的数值\n",
    "* thousands 处理数值类型时，每千位分隔符并不统一(1.234.567,89或者1,234,556.78)，此时要把字符串转化为数字需要指明千分位的符号\n",
    "\n",
    "收尾处理：\n",
    "* index_col 将真实的某列(列的数目，甚至列名）当作index\n",
    "* squeeze 仅读到一列的时候，不再保存为DataFrame，而是Series\n",
    "\n",
    "NOTE: 读取excel的时候一个重要参数为sheetname=k,标志着一个excel的第k个sheet页将会被取出"
   ]
  },
  {
   "cell_type": "code",
   "execution_count": null,
   "metadata": {
    "collapsed": false
   },
   "outputs": [],
   "source": [
    "\n",
    "\n",
    "\n",
    "irisdata = pd.read_csv('iris.data', header = 0,  names = cnames, encoding = 'utf-8')\n",
    "#irisdata\n",
    "irisdata.to_excel('iris.xls',index=None, encoding='utf-8')\n",
    "irisdata_from_excel = pd.read_excel('iris.xls', header=0, encoding='utf-8')\n",
    "irisdata_from_excel"
   ]
  }
 ],
 "metadata": {
  "kernelspec": {
   "display_name": "Python 2",
   "language": "python",
   "name": "python2"
  },
  "language_info": {
   "codemirror_mode": {
    "name": "ipython",
    "version": 2
   },
   "file_extension": ".py",
   "mimetype": "text/x-python",
   "name": "python",
   "nbconvert_exporter": "python",
   "pygments_lexer": "ipython2",
   "version": "2.7.11"
  }
 },
 "nbformat": 4,
 "nbformat_minor": 0
}
