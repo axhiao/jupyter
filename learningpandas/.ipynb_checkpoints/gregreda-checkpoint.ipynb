{
 "cells": [
  {
   "cell_type": "code",
   "execution_count": 1,
   "metadata": {
    "collapsed": true
   },
   "outputs": [],
   "source": [
    "# http://www.gregreda.com/2013/10/26/working-with-pandas-dataframes/\n",
    "import pandas as pd\n",
    "import numpy as np\n",
    "import matplotlib.pyplot as plt\n",
    "pd.set_option('max_columns', 50)\n",
    "%matplotlib inline\n"
   ]
  },
  {
   "cell_type": "code",
   "execution_count": 4,
   "metadata": {
    "collapsed": false
   },
   "outputs": [
    {
     "data": {
      "text/plain": [
       "Austin      450.0\n",
       "Portland    900.0\n",
       "dtype: float64"
      ]
     },
     "execution_count": 4,
     "metadata": {},
     "output_type": "execute_result"
    }
   ],
   "source": [
    "s = pd.Series([7, 'Heisenberg', 3.14, -1789710578, 'Happy Eating!'],\n",
    "              index=['A', 'Z', 'C', 'Y', 'E'])\n",
    "\n",
    "#The Series constructor can convert a dictonary as well, using the keys of the dictionary as its index.\n",
    "d = {'Chicago': 1000, 'New York': 1300, 'Portland': 900, 'San Francisco': 1100,\n",
    "     'Austin': 450, 'Boston': None}\n",
    "cities = pd.Series(d)\n",
    "#cities\n",
    "# you can use the index to select specific items from the Series\n",
    "cities['Chicago']\n",
    "cities[['Chicago', 'Portland', 'San Francisco']]\n",
    "#Or you can use boolean indexing for selection.\n",
    "cities[cities < 1000] # actually, it use each item to iterate to compare with 1000, return this item when returning true.\n"
   ]
  },
  {
   "cell_type": "code",
   "execution_count": 5,
   "metadata": {
    "collapsed": false
   },
   "outputs": [
    {
     "name": "stdout",
     "output_type": "stream",
     "text": [
      "False\n"
     ]
    },
    {
     "data": {
      "text/plain": [
       "Austin            202500.0\n",
       "Boston                 NaN\n",
       "Chicago          1000000.0\n",
       "New York         1690000.0\n",
       "Portland          810000.0\n",
       "San Francisco    1210000.0\n",
       "dtype: float64"
      ]
     },
     "execution_count": 5,
     "metadata": {},
     "output_type": "execute_result"
    }
   ],
   "source": [
    "# what if you are not sure whether an item is in the Series? You can check using idiomatic Python\n",
    "print ('Seattle' in cities)\n",
    "cities / 3\n",
    "np.square(cities)"
   ]
  },
  {
   "cell_type": "code",
   "execution_count": 6,
   "metadata": {
    "collapsed": false
   },
   "outputs": [
    {
     "ename": "NameError",
     "evalue": "name 'cols' is not defined",
     "output_type": "error",
     "traceback": [
      "\u001b[0;31m---------------------------------------------------------------------------\u001b[0m",
      "\u001b[0;31mNameError\u001b[0m                                 Traceback (most recent call last)",
      "\u001b[0;32m<ipython-input-6-5821c0640172>\u001b[0m in \u001b[0;36m<module>\u001b[0;34m()\u001b[0m\n\u001b[1;32m      1\u001b[0m \u001b[0;31m# use own defined column names : cols\u001b[0m\u001b[0;34m\u001b[0m\u001b[0;34m\u001b[0m\u001b[0m\n\u001b[1;32m      2\u001b[0m no_headers = pd.read_csv('peyton-passing-TDs-2012.csv', sep=',', header=None,\n\u001b[0;32m----> 3\u001b[0;31m                          names=cols)\n\u001b[0m",
      "\u001b[0;31mNameError\u001b[0m: name 'cols' is not defined"
     ]
    }
   ],
   "source": [
    "# use own defined column names : cols\n",
    "no_headers = pd.read_csv('peyton-passing-TDs-2012.csv', sep=',', header=None,\n",
    "                         names=cols)"
   ]
  },
  {
   "cell_type": "markdown",
   "metadata": {
    "collapsed": false
   },
   "source": [
    "### merge/join\n",
    "Like SQL's JOIN clause, `pandas.merge` allows two DataFrames to be joined on one or more keys. The function provides a series of parameters (on, left_on, right_on, left_index, right_index) allowing you to specify the columns or indexes on which to join.\n",
    "\n",
    "By default, `pandas.merge` operates as an inner join, which can be changed using the `how` parameter\n",
    "\n",
    "how : {'left', 'right', 'outer', 'inner'}, default 'inner'\n",
    "\n",
    "* left: use only keys from left frame (SQL: left outer join)\n",
    "* right: use only keys from right frame (SQL: right outer join)\n",
    "* outer: use union of keys from both frames (SQL: full outer join)\n",
    "* inner: use intersection of keys from both frames (SQL: inner join)"
   ]
  },
  {
   "cell_type": "code",
   "execution_count": 8,
   "metadata": {
    "collapsed": false
   },
   "outputs": [
    {
     "name": "stdout",
     "output_type": "stream",
     "text": [
      "   key left_value\n",
      "0    0          a\n",
      "1    1          b\n",
      "2    2          c\n",
      "3    3          d\n",
      "4    4          e\n",
      "\n",
      "\n",
      "   key right_value\n",
      "0    2           f\n",
      "1    3           g\n",
      "2    4           h\n",
      "3    5           i\n",
      "4    6           j\n"
     ]
    },
    {
     "data": {
      "text/html": [
       "<div>\n",
       "<table border=\"1\" class=\"dataframe\">\n",
       "  <thead>\n",
       "    <tr style=\"text-align: right;\">\n",
       "      <th></th>\n",
       "      <th>key</th>\n",
       "      <th>left_value</th>\n",
       "      <th>right_value</th>\n",
       "    </tr>\n",
       "  </thead>\n",
       "  <tbody>\n",
       "    <tr>\n",
       "      <th>0</th>\n",
       "      <td>2</td>\n",
       "      <td>c</td>\n",
       "      <td>f</td>\n",
       "    </tr>\n",
       "    <tr>\n",
       "      <th>1</th>\n",
       "      <td>3</td>\n",
       "      <td>d</td>\n",
       "      <td>g</td>\n",
       "    </tr>\n",
       "    <tr>\n",
       "      <th>2</th>\n",
       "      <td>4</td>\n",
       "      <td>e</td>\n",
       "      <td>h</td>\n",
       "    </tr>\n",
       "  </tbody>\n",
       "</table>\n",
       "</div>"
      ],
      "text/plain": [
       "   key left_value right_value\n",
       "0    2          c           f\n",
       "1    3          d           g\n",
       "2    4          e           h"
      ]
     },
     "execution_count": 8,
     "metadata": {},
     "output_type": "execute_result"
    }
   ],
   "source": [
    "left_frame = pd.DataFrame({'key': range(5), \n",
    "                           'left_value': ['a', 'b', 'c', 'd', 'e']})\n",
    "right_frame = pd.DataFrame({'key': range(2, 7), \n",
    "                           'right_value': ['f', 'g', 'h', 'i', 'j']})\n",
    "print(left_frame)\n",
    "print('\\n')\n",
    "print(right_frame)\n",
    "\n",
    "#\n",
    "pd.merge(left_frame, right_frame, on='key', how='inner')\n",
    "pd.merge(left_frame, right_frame, on='key', how='left')\n",
    "pd.merge(left_frame, right_frame, on='key', how='right')\n",
    "pd.merge(left_frame, right_frame, on='key', how='outer') # mysql does not support this.\n"
   ]
  },
  {
   "cell_type": "markdown",
   "metadata": {},
   "source": [
    "# Combining\n",
    "\n",
    "pandas also provides a way to combine DataFrames along an axis - **pandas.concat**. While the function is equivalent to SQL's UNION clause, there's a lot more that can be done with it."
   ]
  },
  {
   "cell_type": "code",
   "execution_count": 15,
   "metadata": {
    "collapsed": false
   },
   "outputs": [
    {
     "data": {
      "text/html": [
       "<div>\n",
       "<table border=\"1\" class=\"dataframe\">\n",
       "  <thead>\n",
       "    <tr style=\"text-align: right;\">\n",
       "      <th></th>\n",
       "      <th>key</th>\n",
       "      <th>left_value</th>\n",
       "      <th>key</th>\n",
       "      <th>right_value</th>\n",
       "    </tr>\n",
       "  </thead>\n",
       "  <tbody>\n",
       "    <tr>\n",
       "      <th>0</th>\n",
       "      <td>0</td>\n",
       "      <td>a</td>\n",
       "      <td>2</td>\n",
       "      <td>f</td>\n",
       "    </tr>\n",
       "    <tr>\n",
       "      <th>1</th>\n",
       "      <td>1</td>\n",
       "      <td>b</td>\n",
       "      <td>3</td>\n",
       "      <td>g</td>\n",
       "    </tr>\n",
       "    <tr>\n",
       "      <th>2</th>\n",
       "      <td>2</td>\n",
       "      <td>c</td>\n",
       "      <td>4</td>\n",
       "      <td>h</td>\n",
       "    </tr>\n",
       "    <tr>\n",
       "      <th>3</th>\n",
       "      <td>3</td>\n",
       "      <td>d</td>\n",
       "      <td>5</td>\n",
       "      <td>i</td>\n",
       "    </tr>\n",
       "    <tr>\n",
       "      <th>4</th>\n",
       "      <td>4</td>\n",
       "      <td>e</td>\n",
       "      <td>6</td>\n",
       "      <td>j</td>\n",
       "    </tr>\n",
       "  </tbody>\n",
       "</table>\n",
       "</div>"
      ],
      "text/plain": [
       "   key left_value  key right_value\n",
       "0    0          a    2           f\n",
       "1    1          b    3           g\n",
       "2    2          c    4           h\n",
       "3    3          d    5           i\n",
       "4    4          e    6           j"
      ]
     },
     "execution_count": 15,
     "metadata": {},
     "output_type": "execute_result"
    }
   ],
   "source": [
    "pd.concat([left_frame, right_frame])\n",
    "pd.concat([left_frame, right_frame], axis=1)"
   ]
  },
  {
   "cell_type": "markdown",
   "metadata": {},
   "source": [
    "# Grouping\n",
    "\n",
    "\n",
    "__converters: dict.optional__\n",
    "\n",
    "+ Dict of functions for converting values in certain columns. Keys can either be integers or column labels\n",
    "\n",
    "pandas **groupby** returns a DataFrameGroupBy object which has a variety of methods, many of which are similar to standard SQL aggregate functions.\n",
    "\n",
    "Calling **count** returns the total number of NOT NULL values within each column. If we were interested in the total number of records in each group, we could use **size**."
   ]
  },
  {
   "cell_type": "code",
   "execution_count": 47,
   "metadata": {
    "collapsed": false
   },
   "outputs": [
    {
     "name": "stdout",
     "output_type": "stream",
     "text": [
      "                   name  title  salary\n",
      "department                            \n",
      "ADMIN HEARNG         39     39      39\n",
      "ANIMAL CONTRL        67     67      67\n",
      "AVIATION           1521   1521    1521\n",
      "BOARD OF ELECTION   117    117     117\n",
      "BOARD OF ETHICS       9      9       9\n",
      "\n",
      "\n",
      "department\n",
      "PUBLIC LIBRARY     961\n",
      "STREETS & SAN     2152\n",
      "TRANSPORTN        1073\n",
      "TREASURER           22\n",
      "WATER MGMNT       1840\n",
      "dtype: int64\n"
     ]
    }
   ],
   "source": [
    "headers = ['name', 'title', 'department', 'salary']\n",
    "chicago = pd.read_csv(r'Current_Employee_Names__Salaries__and_Position_Titles.csv',\n",
    "                     header=0,\n",
    "                     names=headers,\n",
    "                     converters={'salary': lambda x: float(x.replace('$', ''))})\n",
    "# chicago.head()\n",
    "\n",
    "by_dept = chicago.groupby('department')\n",
    "\n",
    "print(by_dept.count().head()) # NOT NULL records within each column\n",
    "print('\\n')\n",
    "print(by_dept.size().tail()) # total records for each department"
   ]
  },
  {
   "cell_type": "code",
   "execution_count": 54,
   "metadata": {
    "collapsed": false
   },
   "outputs": [
    {
     "name": "stdout",
     "output_type": "stream",
     "text": [
      "                    salary\n",
      "department                \n",
      "HUMAN RESOURCES  5313360.0\n",
      "INSPECTOR GEN    4680780.0\n",
      "\n",
      "\n",
      "                         salary\n",
      "department                     \n",
      "ADMIN HEARNG       76829.846154\n",
      "ANIMAL CONTRL      54977.498507\n",
      "AVIATION           73619.429849\n",
      "BOARD OF ELECTION  56175.487179\n",
      "BOARD OF ETHICS    86697.333333\n",
      "\n",
      "\n",
      "                    salary\n",
      "department                \n",
      "HUMAN RESOURCES    73170.0\n",
      "INSPECTOR GEN      75036.0\n",
      "IPRA               89880.0\n",
      "LAW                71292.0\n",
      "LICENSE APPL COMM  71292.0\n"
     ]
    }
   ],
   "source": [
    "print(by_dept.sum()[20:22]) # total salaries of each department\n",
    "print('\\n')\n",
    "print(by_dept.mean()[20:25]) # average salary of each department\n",
    "print('\\n')\n",
    "print(by_dept.median()[20:25]) # take that, RDBMS!"
   ]
  },
  {
   "cell_type": "code",
   "execution_count": 56,
   "metadata": {
    "collapsed": false
   },
   "outputs": [
    {
     "data": {
      "text/plain": [
       "department\n",
       "TRANSPORTN          162\n",
       "WATER MGMNT         154\n",
       "POLICE              122\n",
       "AVIATION            122\n",
       "GENERAL SERVICES    121\n",
       "Name: title, dtype: int64"
      ]
     },
     "execution_count": 56,
     "metadata": {},
     "output_type": "execute_result"
    }
   ],
   "source": [
    "# SELECT department, COUNT(DISTINCT title)\n",
    "# FROM chicago\n",
    "# GROUP BY department\n",
    "# ORDER BY 2 DESC\n",
    "# LIMIT 5;\n",
    "\n",
    "by_dept.title.nunique().sort_values(ascending=False)[:5]"
   ]
  },
  {
   "cell_type": "code",
   "execution_count": 58,
   "metadata": {
    "collapsed": false
   },
   "outputs": [
    {
     "name": "stdout",
     "output_type": "stream",
     "text": [
      "32062\n"
     ]
    }
   ],
   "source": [
    "print len(chicago)"
   ]
  },
  {
   "cell_type": "code",
   "execution_count": 62,
   "metadata": {
    "collapsed": false
   },
   "outputs": [
    {
     "name": "stdout",
     "output_type": "stream",
     "text": [
      "[    1     2     3 ..., 32060 32061 32062]\n"
     ]
    }
   ],
   "source": [
    "print np.arange(len(chicago))+1"
   ]
  },
  {
   "cell_type": "code",
   "execution_count": 63,
   "metadata": {
    "collapsed": false
   },
   "outputs": [
    {
     "name": "stdout",
     "output_type": "stream",
     "text": [
      "                           name                                        title  \\\n",
      "8184           EVANS,  GINGER S                     COMMISSIONER OF AVIATION   \n",
      "7954             EMANUEL,  RAHM                                        MAYOR   \n",
      "25532         SANTIAGO,  JOSE A                            FIRE COMMISSIONER   \n",
      "8042         ESCALANTE,  JOHN J                  FIRST DEPUTY SUPERINTENDENT   \n",
      "19672          MORITA,  JULIA Y                       COMMISSIONER OF HEALTH   \n",
      "23631           REIFMAN,  DAVID       COMMISSIONER OF PLANNING & DEVELOPMENT   \n",
      "19721  MORRISON BUTLER,  LISA V  COMMISSIONER OF FAMILY AND SUPPORT SERVICES   \n",
      "\n",
      "                  department    salary  dept_rank  \n",
      "8184                AVIATION  300000.0          1  \n",
      "7954          MAYOR'S OFFICE  216210.0          1  \n",
      "25532                   FIRE  202728.0          1  \n",
      "8042                  POLICE  197724.0          1  \n",
      "19672                 HEALTH  177000.0          1  \n",
      "23631  COMMUNITY DEVELOPMENT  175020.0          1  \n",
      "19721       FAMILY & SUPPORT  175002.0          1  \n"
     ]
    }
   ],
   "source": [
    "def ranker(df):\n",
    "    \"\"\"Assigns a rank to each employee based on salary, with 1 being the highest paid.\n",
    "    Assumes the data is DESC sorted.\"\"\"\n",
    "    df['dept_rank'] = np.arange(len(df)) + 1\n",
    "    return df\n",
    "\n",
    "\n",
    "chicago.sort_values('salary', ascending=False, inplace=True)\n",
    "chicago = chicago.groupby('department').apply(ranker)\n",
    "print(chicago[chicago.dept_rank == 1].head(7))"
   ]
  }
 ],
 "metadata": {
  "kernelspec": {
   "display_name": "Python 2",
   "language": "python",
   "name": "python2"
  },
  "language_info": {
   "codemirror_mode": {
    "name": "ipython",
    "version": 2
   },
   "file_extension": ".py",
   "mimetype": "text/x-python",
   "name": "python",
   "nbconvert_exporter": "python",
   "pygments_lexer": "ipython2",
   "version": "2.7.11"
  }
 },
 "nbformat": 4,
 "nbformat_minor": 0
}
